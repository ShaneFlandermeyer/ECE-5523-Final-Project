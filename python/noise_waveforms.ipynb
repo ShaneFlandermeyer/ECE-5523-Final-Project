{
 "cells": [
  {
   "cell_type": "code",
   "execution_count": 1,
   "metadata": {},
   "outputs": [],
   "source": [
    "import numpy as np\n",
    "# TODO: Clean up these scipy imports\n",
    "import scipy.constants as sc\n",
    "import scipy.signal as ss\n",
    "from scipy.optimize import line_search, minimize, fmin_cg\n",
    "import matplotlib.pyplot as plt\n",
    "from fte import fte\n",
    "from gradFte import gradFte"
   ]
  },
  {
   "cell_type": "markdown",
   "metadata": {},
   "source": [
    "## PCFM Waveform"
   ]
  },
  {
   "cell_type": "code",
   "execution_count": 2,
   "metadata": {},
   "outputs": [],
   "source": [
    "# Number of waveforms to generate\n",
    "nWaveforms = 1\n",
    "# Waveform length in samples\n",
    "M = 900\n",
    "# Oversampling factor\n",
    "K = 3\n",
    "# Number of code values\n",
    "N = int(M/K)\n",
    "# Randomly generate a code sample matrix for each waveform\n",
    "minAlpha = -sc.pi/K\n",
    "maxAlpha = sc.pi/K\n",
    "x0 = minAlpha + (maxAlpha - minAlpha) * np.random.rand(N,nWaveforms)\n",
    "# Rectangular shaping filter with time support [0,Tp) = [0:K]\n",
    "g = np.ones((K,1)) / K\n",
    "g = np.concatenate((g,np.zeros((M-K,1))),axis=0)\n",
    "# Construct an M x N basis matrix where each column is a basis function. This is\n",
    "# NOT a basis in the mathematical sense; each column is equal to the previous\n",
    "# column delayed by K samples\n",
    "B = np.zeros((M,N))\n",
    "for ii in range(N):\n",
    "  B[:,ii] = np.cumsum(np.roll(g,ii*K))"
   ]
  },
  {
   "cell_type": "markdown",
   "metadata": {},
   "source": [
    "## Frequency domain metric"
   ]
  },
  {
   "cell_type": "code",
   "execution_count": 3,
   "metadata": {},
   "outputs": [],
   "source": [
    "# Normalized full-width bandwidth\n",
    "bw = 0.25\n",
    "# Convert to standard deviation\n",
    "# https://en.wikipedia.org/wiki/Full_width_at_half_maximum\n",
    "sigma = bw/(2*np.sqrt(2*np.log(2)))\n",
    "# Convert from standard deviation to Matlab's weird width factor\n",
    "# https://www.mathworks.com/help/signal/ref/gausswin.html#References\n",
    "alpha = 1 / (2*sigma)\n",
    "sigma = (2*M-1-1)/(2*alpha)\n",
    "# Create the template vector\n",
    "u = abs(ss.windows.gaussian(2*M-1,sigma))**2\n",
    "u[10*np.log10(u) <= -50] = 0\n",
    "# Sample rate\n",
    "fs = 200e6\n",
    "# Frequency axis for plotting\n",
    "freqStep = 2*fs/(2*M-1)\n",
    "freqAxis = np.arange(-fs,fs,freqStep)"
   ]
  },
  {
   "cell_type": "markdown",
   "metadata": {},
   "source": [
    "## Optimize"
   ]
  },
  {
   "cell_type": "code",
   "execution_count": 4,
   "metadata": {},
   "outputs": [
    {
     "name": "stdout",
     "output_type": "stream",
     "text": [
      "Warning: Desired error not necessarily achieved due to precision loss.\n",
      "         Current function value: 15.732829\n",
      "         Iterations: 1\n",
      "         Function evaluations: 52\n",
      "         Gradient evaluations: 40\n"
     ]
    }
   ],
   "source": [
    "# Define a lambda function for the call to minimize() below\n",
    "g = lambda x,B,u : np.squeeze(gradFte(x,B,u)) \n",
    "# FIXME: Line search fails here\n",
    "res = minimize(fte, x0, jac=g,args=(B,u), options={'maxiter': 100, 'disp': True})\n",
    "xopt = res.x[:,np.newaxis]"
   ]
  },
  {
   "cell_type": "markdown",
   "metadata": {},
   "source": [
    "## Plot the optimization result"
   ]
  },
  {
   "cell_type": "code",
   "execution_count": 6,
   "metadata": {},
   "outputs": [
    {
     "name": "stderr",
     "output_type": "stream",
     "text": [
      "/tmp/ipykernel_148728/1038914947.py:7: RuntimeWarning: divide by zero encountered in log10\n",
      "  plt.plot(freqAxis, 10*np.log10(u))\n"
     ]
    },
    {
     "data": {
      "image/png": "[encoded data removed]",
      "text/plain": [
       "<Figure size 432x288 with 1 Axes>"
      ]
     },
     "metadata": {
      "needs_background": "light"
     },
     "output_type": "display_data"
    }
   ],
   "source": [
    "\n",
    "s = np.exp(1j*B@xopt)\n",
    "sBar = np.concatenate((s, np.zeros((M-1, s.shape[1]))))\n",
    "#\n",
    "sfBar = np.fft.fftshift(np.fft.fft(sBar, axis=0))\n",
    "sfBar = sfBar / max(abs(sfBar))\n",
    "plt.plot(freqAxis, 10*np.log10(abs(sfBar)**2))\n",
    "plt.plot(freqAxis, 10*np.log10(u))\n",
    "plt.ylim([-50,0])\n",
    "plt.show()\n"
   ]
  }
 ],
 "metadata": {
  "interpreter": {
   "hash": "2d00099d29f19d07475a7655cdd6d06e0ac79d6639078496a585d1cd79be060f"
  },
  "kernelspec": {
   "display_name": "Python 3.9.5 64-bit ('final-project-6ZvtOV3p': venv)",
   "name": "python3"
  },
  "language_info": {
   "codemirror_mode": {
    "name": "ipython",
    "version": 3
   },
   "file_extension": ".py",
   "mimetype": "text/x-python",
   "name": "python",
   "nbconvert_exporter": "python",
   "pygments_lexer": "ipython3",
   "version": "3.9.5"
  },
  "orig_nbformat": 4
 },
 "nbformat": 4,
 "nbformat_minor": 2
}
