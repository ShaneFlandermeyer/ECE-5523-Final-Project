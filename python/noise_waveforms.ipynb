{
 "cells": [
  {
   "cell_type": "code",
   "execution_count": 21,
   "metadata": {},
   "outputs": [],
   "source": [
    "import numpy as np\n",
    "# TODO: Clean up these scipy imports\n",
    "import scipy.constants as sc\n",
    "import scipy.signal as ss\n",
    "from scipy.optimize import line_search, minimize\n",
    "import matplotlib.pyplot as plt\n",
    "from fte import fte\n",
    "from gradFte import gradFte"
   ]
  },
  {
   "cell_type": "markdown",
   "metadata": {},
   "source": [
    "## PCFM Waveform"
   ]
  },
  {
   "cell_type": "code",
   "execution_count": 22,
   "metadata": {},
   "outputs": [],
   "source": [
    "# Number of waveforms to generate\n",
    "nWaveforms = 1\n",
    "# Waveform length in samples\n",
    "M = 900\n",
    "# Oversampling factor\n",
    "K = 3\n",
    "# Number of code values\n",
    "N = int(M/K)\n",
    "# Randomly generate a code sample matrix for each waveform\n",
    "minAlpha = -sc.pi/K\n",
    "maxAlpha = sc.pi/K\n",
    "x = minAlpha + (maxAlpha - minAlpha) * np.random.rand(N,nWaveforms)\n",
    "# Rectangular shaping filter with time support [0,Tp) = [0:K]\n",
    "g = np.ones((K,1)) / K\n",
    "g = np.concatenate((g,np.zeros((M-K,1))),axis=0)\n",
    "# Construct an M x N basis matrix where each column is a basis function. This is\n",
    "# NOT a basis in the mathematical sense; each column is equal to the previous\n",
    "# column delayed by K samples\n",
    "B = np.zeros((M,N))\n",
    "for ii in range(N):\n",
    "  B[:,ii] = np.cumsum(np.roll(g,ii*K))"
   ]
  },
  {
   "cell_type": "markdown",
   "metadata": {},
   "source": [
    "## Frequency domain metric"
   ]
  },
  {
   "cell_type": "code",
   "execution_count": 26,
   "metadata": {},
   "outputs": [
    {
     "data": {
      "text/plain": [
       "[<matplotlib.lines.Line2D at 0x7ff5672cff10>]"
      ]
     },
     "execution_count": 26,
     "metadata": {},
     "output_type": "execute_result"
    },
    {
     "data": {
      "image/png": "[encoded data removed]",
      "text/plain": [
       "<Figure size 432x288 with 1 Axes>"
      ]
     },
     "metadata": {
      "needs_background": "light"
     },
     "output_type": "display_data"
    }
   ],
   "source": [
    "\n",
    "# Normalized full-width bandwidth\n",
    "bw = 0.25\n",
    "# Convert to standard deviation\n",
    "# https://en.wikipedia.org/wiki/Full_width_at_half_maximum\n",
    "sigma = bw/(2*np.sqrt(2*np.log(2)))\n",
    "# Convert from standard deviation to Matlab's weird width factor\n",
    "# https://www.mathworks.com/help/signal/ref/gausswin.html#References\n",
    "alpha = 1 / (2*sigma)\n",
    "sigma = (2*M-1-1)/(2*alpha)\n",
    "# Create the template vector\n",
    "u = ss.windows.gaussian(2*M-1,sigma)**2\n",
    "# u[10*np.log10(u) <= -50] = 0\n",
    "# TODO: Might have to clip values here\n",
    "# Sample rate\n",
    "fs = 200e6\n",
    "# Frequency axis for plotting\n",
    "freqStep = 2*fs/(2*M-1)\n",
    "freqAxis = np.arange(-fs,fs,freqStep)\n",
    "# initialSBar = fte(x,B,u)\n",
    "plt.plot(freqAxis,u)\n"
   ]
  },
  {
   "cell_type": "markdown",
   "metadata": {},
   "source": [
    "## Gradient-based optimization"
   ]
  },
  {
   "cell_type": "code",
   "execution_count": 27,
   "metadata": {},
   "outputs": [
    {
     "name": "stdout",
     "output_type": "stream",
     "text": [
      "Warning: Desired error not necessarily achieved due to precision loss.\n",
      "         Current function value: 1200.203283\n",
      "         Iterations: 0\n",
      "         Function evaluations: 71\n",
      "         Gradient evaluations: 59\n"
     ]
    }
   ],
   "source": [
    "# TODO: Implement this using scipy.optimize.line_search\n",
    "f = lambda x: fte(x, B, u)[0]\n",
    "gradf = lambda x: np.squeeze(gradFte(x, B, u))\n",
    "res = minimize(f,x,jac=gradf,options={'disp':True})"
   ]
  }
 ],
 "metadata": {
  "interpreter": {
   "hash": "2d00099d29f19d07475a7655cdd6d06e0ac79d6639078496a585d1cd79be060f"
  },
  "kernelspec": {
   "display_name": "Python 3.9.5 64-bit ('final-project-6ZvtOV3p': pipenv)",
   "name": "python3"
  },
  "language_info": {
   "codemirror_mode": {
    "name": "ipython",
    "version": 3
   },
   "file_extension": ".py",
   "mimetype": "text/x-python",
   "name": "python",
   "nbconvert_exporter": "python",
   "pygments_lexer": "ipython3",
   "version": "3.9.5"
  },
  "orig_nbformat": 4
 },
 "nbformat": 4,
 "nbformat_minor": 2
}
